{
 "cells": [
  {
   "cell_type": "code",
   "execution_count": 1,
   "metadata": {},
   "outputs": [],
   "source": [
    "import matplotlib.pyplot as plt\n",
    "import seaborn as sns\n",
    "from matplotlib.lines import Line2D\n",
    "import pandas as pd\n",
    "import os\n",
    "import sys"
   ]
  },
  {
   "cell_type": "code",
   "execution_count": 2,
   "metadata": {},
   "outputs": [],
   "source": [
    "current_dir = os.getcwd()\n",
    "data_dir = os.path.join(current_dir, '..', 'data')\n",
    "data_file = os.path.join(data_dir, 'winequality-white.csv')\n",
    "data_df = pd.read_csv(data_file, sep=';')"
   ]
  },
  {
   "cell_type": "code",
   "execution_count": 3,
   "metadata": {},
   "outputs": [],
   "source": [
    "sys.path.insert(0, '../src')\n",
    "import datacleaning\n",
    "data = datacleaning.clean_data(data_df)\n",
    "data_xgb = data"
   ]
  },
  {
   "cell_type": "code",
   "execution_count": 4,
   "metadata": {},
   "outputs": [
    {
     "name": "stdout",
     "output_type": "stream",
     "text": [
      "Validation Accuracy: 0.6474\n",
      "Test Accuracy: 0.6854\n"
     ]
    }
   ],
   "source": [
    "sys.path.insert(0, '../models')\n",
    "import gbmmodel\n",
    "model = gbmmodel.xgbmodel(data)"
   ]
  },
  {
   "cell_type": "code",
   "execution_count": 5,
   "metadata": {},
   "outputs": [
    {
     "name": "stdout",
     "output_type": "stream",
     "text": [
      "Fitting 3 folds for each of 1 candidates, totalling 3 fits\n",
      "[CV] END learning_rate=0.09, max_depth=7, n_estimators=323, subsample=0.7; total time=   0.7s\n",
      "[CV] END learning_rate=0.09, max_depth=7, n_estimators=323, subsample=0.7; total time=   0.7s\n",
      "[CV] END learning_rate=0.09, max_depth=7, n_estimators=323, subsample=0.7; total time=   0.7s\n",
      "Best parameters found: {'learning_rate': 0.09, 'max_depth': 7, 'n_estimators': 323, 'subsample': 0.7}\n",
      "Best score: 0.6357835630423686\n",
      "Test Accuracy: 0.6959\n"
     ]
    }
   ],
   "source": [
    "model = gbmmodel.xgbmodel_optimized(data)"
   ]
  }
 ],
 "metadata": {
  "kernelspec": {
   "display_name": "Python 3",
   "language": "python",
   "name": "python3"
  },
  "language_info": {
   "codemirror_mode": {
    "name": "ipython",
    "version": 3
   },
   "file_extension": ".py",
   "mimetype": "text/x-python",
   "name": "python",
   "nbconvert_exporter": "python",
   "pygments_lexer": "ipython3",
   "version": "3.11.7"
  }
 },
 "nbformat": 4,
 "nbformat_minor": 2
}
